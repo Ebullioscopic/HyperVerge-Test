{
 "cells": [
  {
   "cell_type": "code",
   "execution_count": 1,
   "id": "1e1cd8db",
   "metadata": {},
   "outputs": [
    {
     "name": "stdout",
     "output_type": "stream",
     "text": [
      "Using Metal Performance Shaders (MPS) for GPU acceleration\n",
      "Device: mps\n",
      "PyTorch version: 2.7.1\n",
      "MPS available: True\n"
     ]
    }
   ],
   "source": [
    "# Import required packages\n",
    "import torch\n",
    "import torch.nn as nn\n",
    "import torch.optim as optim\n",
    "from torch.utils.data import DataLoader, Dataset\n",
    "import torchvision.transforms as transforms\n",
    "import torchvision.models as models\n",
    "import pandas as pd\n",
    "import numpy as np\n",
    "from PIL import Image\n",
    "import os\n",
    "from sklearn.preprocessing import LabelEncoder\n",
    "from sklearn.model_selection import train_test_split\n",
    "import matplotlib.pyplot as plt\n",
    "from tqdm import tqdm\n",
    "import time\n",
    "\n",
    "# Check for Metal Performance Shaders (MPS) availability on macOS\n",
    "if torch.backends.mps.is_available():\n",
    "    device = torch.device(\"mps\")\n",
    "    print(\"Using Metal Performance Shaders (MPS) for GPU acceleration\")\n",
    "elif torch.cuda.is_available():\n",
    "    device = torch.device(\"cuda\")\n",
    "    print(\"Using CUDA\")\n",
    "else:\n",
    "    device = torch.device(\"cpu\")\n",
    "    print(\"Using CPU\")\n",
    "\n",
    "print(f\"Device: {device}\")\n",
    "print(f\"PyTorch version: {torch.__version__}\")\n",
    "print(f\"MPS available: {torch.backends.mps.is_available()}\")"
   ]
  },
  {
   "cell_type": "code",
   "execution_count": 2,
   "id": "8721ebea",
   "metadata": {},
   "outputs": [
    {
     "name": "stdout",
     "output_type": "stream",
     "text": [
      "Requirement already satisfied: scikit-learn in ./venv/lib/python3.13/site-packages (1.7.0)\n",
      "Requirement already satisfied: numpy>=1.22.0 in ./venv/lib/python3.13/site-packages (from scikit-learn) (2.3.1)\n",
      "Requirement already satisfied: scipy>=1.8.0 in ./venv/lib/python3.13/site-packages (from scikit-learn) (1.16.0)\n",
      "Requirement already satisfied: joblib>=1.2.0 in ./venv/lib/python3.13/site-packages (from scikit-learn) (1.5.1)\n",
      "Requirement already satisfied: threadpoolctl>=3.1.0 in ./venv/lib/python3.13/site-packages (from scikit-learn) (3.6.0)\n",
      "Successfully installed scikit-learn\n",
      "Requirement already satisfied: seaborn in ./venv/lib/python3.13/site-packages (0.13.2)\n",
      "Requirement already satisfied: numpy!=1.24.0,>=1.20 in ./venv/lib/python3.13/site-packages (from seaborn) (2.3.1)\n",
      "Requirement already satisfied: pandas>=1.2 in ./venv/lib/python3.13/site-packages (from seaborn) (2.3.1)\n",
      "Requirement already satisfied: matplotlib!=3.6.1,>=3.4 in ./venv/lib/python3.13/site-packages (from seaborn) (3.10.3)\n",
      "Requirement already satisfied: contourpy>=1.0.1 in ./venv/lib/python3.13/site-packages (from matplotlib!=3.6.1,>=3.4->seaborn) (1.3.2)\n",
      "Requirement already satisfied: cycler>=0.10 in ./venv/lib/python3.13/site-packages (from matplotlib!=3.6.1,>=3.4->seaborn) (0.12.1)\n",
      "Requirement already satisfied: fonttools>=4.22.0 in ./venv/lib/python3.13/site-packages (from matplotlib!=3.6.1,>=3.4->seaborn) (4.58.5)\n",
      "Requirement already satisfied: kiwisolver>=1.3.1 in ./venv/lib/python3.13/site-packages (from matplotlib!=3.6.1,>=3.4->seaborn) (1.4.8)\n",
      "Requirement already satisfied: packaging>=20.0 in ./venv/lib/python3.13/site-packages (from matplotlib!=3.6.1,>=3.4->seaborn) (25.0)\n",
      "Requirement already satisfied: pillow>=8 in ./venv/lib/python3.13/site-packages (from matplotlib!=3.6.1,>=3.4->seaborn) (11.3.0)\n",
      "Requirement already satisfied: pyparsing>=2.3.1 in ./venv/lib/python3.13/site-packages (from matplotlib!=3.6.1,>=3.4->seaborn) (3.2.3)\n",
      "Requirement already satisfied: python-dateutil>=2.7 in ./venv/lib/python3.13/site-packages (from matplotlib!=3.6.1,>=3.4->seaborn) (2.9.0.post0)\n",
      "Requirement already satisfied: pytz>=2020.1 in ./venv/lib/python3.13/site-packages (from pandas>=1.2->seaborn) (2025.2)\n",
      "Requirement already satisfied: tzdata>=2022.7 in ./venv/lib/python3.13/site-packages (from pandas>=1.2->seaborn) (2025.2)\n",
      "Requirement already satisfied: six>=1.5 in ./venv/lib/python3.13/site-packages (from python-dateutil>=2.7->matplotlib!=3.6.1,>=3.4->seaborn) (1.17.0)\n",
      "Successfully installed seaborn\n"
     ]
    }
   ],
   "source": [
    "# Install additional required packages\n",
    "import subprocess\n",
    "import sys\n",
    "\n",
    "def install_package(package):\n",
    "    try:\n",
    "        subprocess.check_call([sys.executable, \"-m\", \"pip\", \"install\", package])\n",
    "        print(f\"Successfully installed {package}\")\n",
    "    except subprocess.CalledProcessError:\n",
    "        print(f\"Failed to install {package}\")\n",
    "\n",
    "# Install required packages\n",
    "packages = ['scikit-learn', 'seaborn']\n",
    "for package in packages:\n",
    "    install_package(package)"
   ]
  },
  {
   "cell_type": "code",
   "execution_count": 3,
   "id": "3e9a2857",
   "metadata": {},
   "outputs": [
    {
     "name": "stdout",
     "output_type": "stream",
     "text": [
      "Dataset Info:\n",
      "Total samples: 779\n",
      "Number of classes: 10\n",
      "\n",
      "Class distribution:\n",
      "label\n",
      "cane          145\n",
      "ragno         144\n",
      "gallina        92\n",
      "cavallo        78\n",
      "farfalla       63\n",
      "mucca          55\n",
      "scoiattolo     55\n",
      "pecora         54\n",
      "gatto          50\n",
      "elefante       43\n",
      "Name: count, dtype: int64\n",
      "\n",
      "Classes: ['cane' 'cavallo' 'elefante' 'farfalla' 'gallina' 'gatto' 'mucca' 'pecora'\n",
      " 'ragno' 'scoiattolo']\n",
      "Encoded labels: {'cane': 0, 'cavallo': 1, 'elefante': 2, 'farfalla': 3, 'gallina': 4, 'gatto': 5, 'mucca': 6, 'pecora': 7, 'ragno': 8, 'scoiattolo': 9}\n"
     ]
    }
   ],
   "source": [
    "# Load and explore the labeled data\n",
    "labeled_data_path = \"HV-AI-2025/labeled_data/labeled_data.csv\"\n",
    "df = pd.read_csv(labeled_data_path)\n",
    "\n",
    "print(\"Dataset Info:\")\n",
    "print(f\"Total samples: {len(df)}\")\n",
    "print(f\"Number of classes: {df['label'].nunique()}\")\n",
    "print(\"\\nClass distribution:\")\n",
    "print(df['label'].value_counts())\n",
    "\n",
    "# Get unique classes\n",
    "classes = df['label'].unique()\n",
    "print(f\"\\nClasses: {classes}\")\n",
    "\n",
    "# Encode labels\n",
    "label_encoder = LabelEncoder()\n",
    "df['encoded_label'] = label_encoder.fit_transform(df['label'])\n",
    "num_classes = len(classes)\n",
    "print(f\"Encoded labels: {dict(zip(label_encoder.classes_, range(len(label_encoder.classes_))))}\")"
   ]
  },
  {
   "cell_type": "code",
   "execution_count": 4,
   "id": "5100e13e",
   "metadata": {},
   "outputs": [],
   "source": [
    "# Custom Dataset class\n",
    "class AnimalDataset(Dataset):\n",
    "    def __init__(self, dataframe, images_dir, transform=None):\n",
    "        self.dataframe = dataframe\n",
    "        self.images_dir = images_dir\n",
    "        self.transform = transform\n",
    "        \n",
    "    def __len__(self):\n",
    "        return len(self.dataframe)\n",
    "    \n",
    "    def __getitem__(self, idx):\n",
    "        img_name = self.dataframe.iloc[idx]['img_name']\n",
    "        img_path = os.path.join(self.images_dir, img_name)\n",
    "        \n",
    "        # Load image\n",
    "        try:\n",
    "            image = Image.open(img_path).convert('RGB')\n",
    "        except Exception as e:\n",
    "            print(f\"Error loading image {img_path}: {e}\")\n",
    "            # Return a dummy image if loading fails\n",
    "            image = Image.new('RGB', (224, 224), color='black')\n",
    "        \n",
    "        label = self.dataframe.iloc[idx]['encoded_label']\n",
    "        \n",
    "        if self.transform:\n",
    "            image = self.transform(image)\n",
    "            \n",
    "        return image, label"
   ]
  },
  {
   "cell_type": "code",
   "execution_count": 10,
   "id": "60c09688",
   "metadata": {},
   "outputs": [
    {
     "name": "stdout",
     "output_type": "stream",
     "text": [
      "Training samples: 623\n",
      "Validation samples: 156\n"
     ]
    }
   ],
   "source": [
    "# Define transforms for training and validation\n",
    "train_transform = transforms.Compose([\n",
    "    transforms.Resize((256, 256)),\n",
    "    transforms.RandomCrop(224),\n",
    "    transforms.RandomHorizontalFlip(p=0.5),\n",
    "    transforms.RandomRotation(degrees=15),\n",
    "    transforms.ColorJitter(brightness=0.2, contrast=0.2, saturation=0.2, hue=0.1),\n",
    "    transforms.ToTensor(),\n",
    "    transforms.Normalize(mean=[0.485, 0.456, 0.406], std=[0.229, 0.224, 0.225])\n",
    "])\n",
    "\n",
    "val_transform = transforms.Compose([\n",
    "    transforms.Resize((224, 224)),\n",
    "    transforms.ToTensor(),\n",
    "    transforms.Normalize(mean=[0.485, 0.456, 0.406], std=[0.229, 0.224, 0.225])\n",
    "])\n",
    "\n",
    "# Split data into train and validation sets\n",
    "train_df, val_df = train_test_split(df, test_size=0.2, random_state=42, stratify=df['label'])\n",
    "\n",
    "print(f\"Training samples: {len(train_df)}\")\n",
    "print(f\"Validation samples: {len(val_df)}\")\n",
    "\n",
    "# Create datasets\n",
    "images_dir = \"HV-AI-2025/labeled_data/images\"\n",
    "train_dataset = AnimalDataset(train_df.reset_index(drop=True), images_dir, train_transform)\n",
    "val_dataset = AnimalDataset(val_df.reset_index(drop=True), images_dir, val_transform)\n",
    "\n",
    "# Create data loaders with optimized settings for Metal\n",
    "batch_size = 32  # Optimized for Metal performance\n",
    "num_workers = 0  # Set to 0 to avoid multiprocessing issues on macOS\n",
    "\n",
    "train_loader = DataLoader(train_dataset, batch_size=batch_size, shuffle=True, \n",
    "                         num_workers=num_workers, pin_memory=True)\n",
    "val_loader = DataLoader(val_dataset, batch_size=batch_size, shuffle=False, \n",
    "                       num_workers=num_workers, pin_memory=True)"
   ]
  },
  {
   "cell_type": "code",
   "execution_count": 6,
   "id": "9af2701d",
   "metadata": {},
   "outputs": [
    {
     "name": "stderr",
     "output_type": "stream",
     "text": [
      "/Users/hariharan/Hiring/HyperVerge/venv/lib/python3.13/site-packages/torchvision/models/_utils.py:208: UserWarning: The parameter 'pretrained' is deprecated since 0.13 and may be removed in the future, please use 'weights' instead.\n",
      "  warnings.warn(\n",
      "/Users/hariharan/Hiring/HyperVerge/venv/lib/python3.13/site-packages/torchvision/models/_utils.py:223: UserWarning: Arguments other than a weight enum or `None` for 'weights' are deprecated since 0.13 and may be removed in the future. The current behavior is equivalent to passing `weights=ResNet18_Weights.IMAGENET1K_V1`. You can also use `weights=ResNet18_Weights.DEFAULT` to get the most up-to-date weights.\n",
      "  warnings.warn(msg)\n"
     ]
    },
    {
     "name": "stdout",
     "output_type": "stream",
     "text": [
      "Downloading: \"https://download.pytorch.org/models/resnet18-f37072fd.pth\" to /Users/hariharan/.cache/torch/hub/checkpoints/resnet18-f37072fd.pth\n"
     ]
    },
    {
     "name": "stderr",
     "output_type": "stream",
     "text": [
      "100%|██████████| 44.7M/44.7M [00:03<00:00, 12.7MB/s]\n"
     ]
    },
    {
     "name": "stdout",
     "output_type": "stream",
     "text": [
      "Model created with 10 classes\n",
      "Model moved to device: mps\n",
      "Total parameters: 11,181,642\n",
      "Trainable parameters: 11,181,642\n"
     ]
    }
   ],
   "source": [
    "# Define ResNet-18 model\n",
    "class AnimalClassifier(nn.Module):\n",
    "    def __init__(self, num_classes=6):\n",
    "        super(AnimalClassifier, self).__init__()\n",
    "        # Load pre-trained ResNet-18\n",
    "        self.backbone = models.resnet18(pretrained=True)\n",
    "        \n",
    "        # Modify the final layer for our number of classes\n",
    "        num_features = self.backbone.fc.in_features\n",
    "        self.backbone.fc = nn.Linear(num_features, num_classes)\n",
    "        \n",
    "        # Add dropout for regularization\n",
    "        self.dropout = nn.Dropout(0.5)\n",
    "        \n",
    "    def forward(self, x):\n",
    "        x = self.backbone(x)\n",
    "        return x\n",
    "\n",
    "# Initialize model\n",
    "model = AnimalClassifier(num_classes=num_classes)\n",
    "model = model.to(device)\n",
    "\n",
    "# Print model info\n",
    "print(f\"Model created with {num_classes} classes\")\n",
    "print(f\"Model moved to device: {device}\")\n",
    "\n",
    "# Count parameters\n",
    "total_params = sum(p.numel() for p in model.parameters())\n",
    "trainable_params = sum(p.numel() for p in model.parameters() if p.requires_grad)\n",
    "print(f\"Total parameters: {total_params:,}\")\n",
    "print(f\"Trainable parameters: {trainable_params:,}\")"
   ]
  },
  {
   "cell_type": "code",
   "execution_count": 7,
   "id": "dfe3e03e",
   "metadata": {},
   "outputs": [
    {
     "name": "stdout",
     "output_type": "stream",
     "text": [
      "Loss function: CrossEntropyLoss\n",
      "Optimizer: AdamW with learning rate 0.001\n",
      "Scheduler: StepLR (step_size=7, gamma=0.1)\n"
     ]
    }
   ],
   "source": [
    "# Define loss function and optimizer\n",
    "criterion = nn.CrossEntropyLoss()\n",
    "optimizer = optim.AdamW(model.parameters(), lr=0.001, weight_decay=0.01)\n",
    "\n",
    "# Learning rate scheduler\n",
    "scheduler = optim.lr_scheduler.StepLR(optimizer, step_size=7, gamma=0.1)\n",
    "\n",
    "print(\"Loss function: CrossEntropyLoss\")\n",
    "print(\"Optimizer: AdamW with learning rate 0.001\")\n",
    "print(\"Scheduler: StepLR (step_size=7, gamma=0.1)\")"
   ]
  },
  {
   "cell_type": "code",
   "execution_count": 8,
   "id": "5b52b36b",
   "metadata": {},
   "outputs": [],
   "source": [
    "# Training function\n",
    "def train_epoch(model, train_loader, criterion, optimizer, device):\n",
    "    model.train()\n",
    "    running_loss = 0.0\n",
    "    correct = 0\n",
    "    total = 0\n",
    "    \n",
    "    progress_bar = tqdm(train_loader, desc=\"Training\")\n",
    "    \n",
    "    for batch_idx, (data, targets) in enumerate(progress_bar):\n",
    "        data, targets = data.to(device), targets.to(device)\n",
    "        \n",
    "        # Zero gradients\n",
    "        optimizer.zero_grad()\n",
    "        \n",
    "        # Forward pass\n",
    "        outputs = model(data)\n",
    "        loss = criterion(outputs, targets)\n",
    "        \n",
    "        # Backward pass\n",
    "        loss.backward()\n",
    "        optimizer.step()\n",
    "        \n",
    "        # Statistics\n",
    "        running_loss += loss.item()\n",
    "        _, predicted = outputs.max(1)\n",
    "        total += targets.size(0)\n",
    "        correct += predicted.eq(targets).sum().item()\n",
    "        \n",
    "        # Update progress bar\n",
    "        progress_bar.set_postfix({\n",
    "            'Loss': f'{running_loss/(batch_idx+1):.4f}',\n",
    "            'Acc': f'{100.*correct/total:.2f}%'\n",
    "        })\n",
    "    \n",
    "    epoch_loss = running_loss / len(train_loader)\n",
    "    epoch_acc = 100. * correct / total\n",
    "    \n",
    "    return epoch_loss, epoch_acc\n",
    "\n",
    "# Validation function\n",
    "def validate_epoch(model, val_loader, criterion, device):\n",
    "    model.eval()\n",
    "    running_loss = 0.0\n",
    "    correct = 0\n",
    "    total = 0\n",
    "    \n",
    "    with torch.no_grad():\n",
    "        progress_bar = tqdm(val_loader, desc=\"Validation\")\n",
    "        \n",
    "        for batch_idx, (data, targets) in enumerate(progress_bar):\n",
    "            data, targets = data.to(device), targets.to(device)\n",
    "            \n",
    "            outputs = model(data)\n",
    "            loss = criterion(outputs, targets)\n",
    "            \n",
    "            running_loss += loss.item()\n",
    "            _, predicted = outputs.max(1)\n",
    "            total += targets.size(0)\n",
    "            correct += predicted.eq(targets).sum().item()\n",
    "            \n",
    "            progress_bar.set_postfix({\n",
    "                'Loss': f'{running_loss/(batch_idx+1):.4f}',\n",
    "                'Acc': f'{100.*correct/total:.2f}%'\n",
    "            })\n",
    "    \n",
    "    epoch_loss = running_loss / len(val_loader)\n",
    "    epoch_acc = 100. * correct / total\n",
    "    \n",
    "    return epoch_loss, epoch_acc"
   ]
  },
  {
   "cell_type": "code",
   "execution_count": 11,
   "id": "aa7f2138",
   "metadata": {},
   "outputs": [
    {
     "name": "stdout",
     "output_type": "stream",
     "text": [
      "Starting training for 15 epochs...\n",
      "\n",
      "Epoch 1/15\n",
      "--------------------------------------------------\n"
     ]
    },
    {
     "name": "stderr",
     "output_type": "stream",
     "text": [
      "Training:   0%|          | 0/20 [00:00<?, ?it/s]/Users/hariharan/Hiring/HyperVerge/venv/lib/python3.13/site-packages/torch/utils/data/dataloader.py:683: UserWarning: 'pin_memory' argument is set as true but not supported on MPS now, then device pinned memory won't be used.\n",
      "  warnings.warn(warn_msg)\n",
      "Training: 100%|██████████| 20/20 [00:10<00:00,  2.00it/s, Loss=1.5492, Acc=52.81%]\n",
      "Validation: 100%|██████████| 5/5 [00:00<00:00, 12.61it/s, Loss=5.1828, Acc=23.72%]\n"
     ]
    },
    {
     "name": "stdout",
     "output_type": "stream",
     "text": [
      "Train Loss: 1.5492, Train Acc: 52.81%\n",
      "Val Loss: 5.1828, Val Acc: 23.72%\n",
      "Learning Rate: 0.001000\n",
      "New best model saved with validation accuracy: 23.72%\n",
      "\n",
      "Epoch 2/15\n",
      "--------------------------------------------------\n"
     ]
    },
    {
     "name": "stderr",
     "output_type": "stream",
     "text": [
      "Training: 100%|██████████| 20/20 [00:03<00:00,  5.94it/s, Loss=1.0692, Acc=64.37%]\n",
      "Validation: 100%|██████████| 5/5 [00:00<00:00, 17.06it/s, Loss=2.3573, Acc=48.08%]\n"
     ]
    },
    {
     "name": "stdout",
     "output_type": "stream",
     "text": [
      "Train Loss: 1.0692, Train Acc: 64.37%\n",
      "Val Loss: 2.3573, Val Acc: 48.08%\n",
      "Learning Rate: 0.001000\n",
      "New best model saved with validation accuracy: 48.08%\n",
      "\n",
      "Epoch 3/15\n",
      "--------------------------------------------------\n"
     ]
    },
    {
     "name": "stderr",
     "output_type": "stream",
     "text": [
      "Training: 100%|██████████| 20/20 [00:03<00:00,  6.36it/s, Loss=0.7860, Acc=71.11%]\n",
      "Validation: 100%|██████████| 5/5 [00:00<00:00, 16.85it/s, Loss=1.4388, Acc=59.62%]\n"
     ]
    },
    {
     "name": "stdout",
     "output_type": "stream",
     "text": [
      "Train Loss: 0.7860, Train Acc: 71.11%\n",
      "Val Loss: 1.4388, Val Acc: 59.62%\n",
      "Learning Rate: 0.001000\n",
      "New best model saved with validation accuracy: 59.62%\n",
      "\n",
      "Epoch 4/15\n",
      "--------------------------------------------------\n"
     ]
    },
    {
     "name": "stderr",
     "output_type": "stream",
     "text": [
      "Training: 100%|██████████| 20/20 [00:03<00:00,  6.15it/s, Loss=0.5564, Acc=80.42%]\n",
      "Validation: 100%|██████████| 5/5 [00:00<00:00, 16.67it/s, Loss=1.7474, Acc=58.33%]\n"
     ]
    },
    {
     "name": "stdout",
     "output_type": "stream",
     "text": [
      "Train Loss: 0.5564, Train Acc: 80.42%\n",
      "Val Loss: 1.7474, Val Acc: 58.33%\n",
      "Learning Rate: 0.001000\n",
      "\n",
      "Epoch 5/15\n",
      "--------------------------------------------------\n"
     ]
    },
    {
     "name": "stderr",
     "output_type": "stream",
     "text": [
      "Training: 100%|██████████| 20/20 [00:03<00:00,  6.32it/s, Loss=0.4479, Acc=83.79%]\n",
      "Validation: 100%|██████████| 5/5 [00:00<00:00, 16.98it/s, Loss=1.4148, Acc=57.69%]\n"
     ]
    },
    {
     "name": "stdout",
     "output_type": "stream",
     "text": [
      "Train Loss: 0.4479, Train Acc: 83.79%\n",
      "Val Loss: 1.4148, Val Acc: 57.69%\n",
      "Learning Rate: 0.001000\n",
      "\n",
      "Epoch 6/15\n",
      "--------------------------------------------------\n"
     ]
    },
    {
     "name": "stderr",
     "output_type": "stream",
     "text": [
      "Training: 100%|██████████| 20/20 [00:03<00:00,  6.29it/s, Loss=0.4356, Acc=84.43%]\n",
      "Validation: 100%|██████████| 5/5 [00:00<00:00, 17.01it/s, Loss=1.6239, Acc=54.49%]\n"
     ]
    },
    {
     "name": "stdout",
     "output_type": "stream",
     "text": [
      "Train Loss: 0.4356, Train Acc: 84.43%\n",
      "Val Loss: 1.6239, Val Acc: 54.49%\n",
      "Learning Rate: 0.001000\n",
      "\n",
      "Epoch 7/15\n",
      "--------------------------------------------------\n"
     ]
    },
    {
     "name": "stderr",
     "output_type": "stream",
     "text": [
      "Training: 100%|██████████| 20/20 [00:03<00:00,  6.27it/s, Loss=0.3600, Acc=88.60%]\n",
      "Validation: 100%|██████████| 5/5 [00:00<00:00, 16.83it/s, Loss=1.4063, Acc=65.38%]\n"
     ]
    },
    {
     "name": "stdout",
     "output_type": "stream",
     "text": [
      "Train Loss: 0.3600, Train Acc: 88.60%\n",
      "Val Loss: 1.4063, Val Acc: 65.38%\n",
      "Learning Rate: 0.000100\n",
      "New best model saved with validation accuracy: 65.38%\n",
      "\n",
      "Epoch 8/15\n",
      "--------------------------------------------------\n"
     ]
    },
    {
     "name": "stderr",
     "output_type": "stream",
     "text": [
      "Training: 100%|██████████| 20/20 [00:03<00:00,  6.26it/s, Loss=0.2216, Acc=92.78%]\n",
      "Validation: 100%|██████████| 5/5 [00:00<00:00, 16.52it/s, Loss=0.8032, Acc=75.64%]\n"
     ]
    },
    {
     "name": "stdout",
     "output_type": "stream",
     "text": [
      "Train Loss: 0.2216, Train Acc: 92.78%\n",
      "Val Loss: 0.8032, Val Acc: 75.64%\n",
      "Learning Rate: 0.000100\n",
      "New best model saved with validation accuracy: 75.64%\n",
      "\n",
      "Epoch 9/15\n",
      "--------------------------------------------------\n"
     ]
    },
    {
     "name": "stderr",
     "output_type": "stream",
     "text": [
      "Training: 100%|██████████| 20/20 [00:03<00:00,  6.25it/s, Loss=0.1348, Acc=96.31%]\n",
      "Validation: 100%|██████████| 5/5 [00:00<00:00, 16.82it/s, Loss=0.7492, Acc=78.21%]\n"
     ]
    },
    {
     "name": "stdout",
     "output_type": "stream",
     "text": [
      "Train Loss: 0.1348, Train Acc: 96.31%\n",
      "Val Loss: 0.7492, Val Acc: 78.21%\n",
      "Learning Rate: 0.000100\n",
      "New best model saved with validation accuracy: 78.21%\n",
      "\n",
      "Epoch 10/15\n",
      "--------------------------------------------------\n"
     ]
    },
    {
     "name": "stderr",
     "output_type": "stream",
     "text": [
      "Training: 100%|██████████| 20/20 [00:03<00:00,  6.20it/s, Loss=0.1174, Acc=96.95%]\n",
      "Validation: 100%|██████████| 5/5 [00:00<00:00, 16.59it/s, Loss=0.7264, Acc=76.92%]\n"
     ]
    },
    {
     "name": "stdout",
     "output_type": "stream",
     "text": [
      "Train Loss: 0.1174, Train Acc: 96.95%\n",
      "Val Loss: 0.7264, Val Acc: 76.92%\n",
      "Learning Rate: 0.000100\n",
      "\n",
      "Epoch 11/15\n",
      "--------------------------------------------------\n"
     ]
    },
    {
     "name": "stderr",
     "output_type": "stream",
     "text": [
      "Training: 100%|██████████| 20/20 [00:03<00:00,  6.21it/s, Loss=0.0997, Acc=97.43%]\n",
      "Validation: 100%|██████████| 5/5 [00:00<00:00, 16.60it/s, Loss=0.7165, Acc=78.21%]\n"
     ]
    },
    {
     "name": "stdout",
     "output_type": "stream",
     "text": [
      "Train Loss: 0.0997, Train Acc: 97.43%\n",
      "Val Loss: 0.7165, Val Acc: 78.21%\n",
      "Learning Rate: 0.000100\n",
      "\n",
      "Epoch 12/15\n",
      "--------------------------------------------------\n"
     ]
    },
    {
     "name": "stderr",
     "output_type": "stream",
     "text": [
      "Training: 100%|██████████| 20/20 [00:03<00:00,  6.20it/s, Loss=0.0753, Acc=98.23%]\n",
      "Validation: 100%|██████████| 5/5 [00:00<00:00, 16.52it/s, Loss=0.7069, Acc=77.56%]\n"
     ]
    },
    {
     "name": "stdout",
     "output_type": "stream",
     "text": [
      "Train Loss: 0.0753, Train Acc: 98.23%\n",
      "Val Loss: 0.7069, Val Acc: 77.56%\n",
      "Learning Rate: 0.000100\n",
      "\n",
      "Epoch 13/15\n",
      "--------------------------------------------------\n"
     ]
    },
    {
     "name": "stderr",
     "output_type": "stream",
     "text": [
      "Training: 100%|██████████| 20/20 [00:03<00:00,  6.14it/s, Loss=0.0544, Acc=98.72%]\n",
      "Validation: 100%|██████████| 5/5 [00:00<00:00, 16.33it/s, Loss=0.6978, Acc=78.21%]\n"
     ]
    },
    {
     "name": "stdout",
     "output_type": "stream",
     "text": [
      "Train Loss: 0.0544, Train Acc: 98.72%\n",
      "Val Loss: 0.6978, Val Acc: 78.21%\n",
      "Learning Rate: 0.000100\n",
      "\n",
      "Epoch 14/15\n",
      "--------------------------------------------------\n"
     ]
    },
    {
     "name": "stderr",
     "output_type": "stream",
     "text": [
      "Training: 100%|██████████| 20/20 [00:03<00:00,  6.20it/s, Loss=0.0608, Acc=98.56%]\n",
      "Validation: 100%|██████████| 5/5 [00:00<00:00, 16.26it/s, Loss=0.7026, Acc=79.49%]\n"
     ]
    },
    {
     "name": "stdout",
     "output_type": "stream",
     "text": [
      "Train Loss: 0.0608, Train Acc: 98.56%\n",
      "Val Loss: 0.7026, Val Acc: 79.49%\n",
      "Learning Rate: 0.000010\n",
      "New best model saved with validation accuracy: 79.49%\n",
      "\n",
      "Epoch 15/15\n",
      "--------------------------------------------------\n"
     ]
    },
    {
     "name": "stderr",
     "output_type": "stream",
     "text": [
      "Training: 100%|██████████| 20/20 [00:03<00:00,  6.18it/s, Loss=0.0501, Acc=99.20%]\n",
      "Validation: 100%|██████████| 5/5 [00:00<00:00, 16.37it/s, Loss=0.7027, Acc=80.13%]\n"
     ]
    },
    {
     "name": "stdout",
     "output_type": "stream",
     "text": [
      "Train Loss: 0.0501, Train Acc: 99.20%\n",
      "Val Loss: 0.7027, Val Acc: 80.13%\n",
      "Learning Rate: 0.000010\n",
      "New best model saved with validation accuracy: 80.13%\n",
      "\n",
      "Training completed in 1.0 minutes\n",
      "Best validation accuracy: 80.13%\n"
     ]
    }
   ],
   "source": [
    "# Training loop\n",
    "num_epochs = 15  # Optimized for 30-minute constraint\n",
    "best_val_acc = 0.0\n",
    "train_losses = []\n",
    "train_accuracies = []\n",
    "val_losses = []\n",
    "val_accuracies = []\n",
    "\n",
    "print(f\"Starting training for {num_epochs} epochs...\")\n",
    "start_time = time.time()\n",
    "\n",
    "for epoch in range(num_epochs):\n",
    "    print(f\"\\nEpoch {epoch+1}/{num_epochs}\")\n",
    "    print(\"-\" * 50)\n",
    "    \n",
    "    # Train\n",
    "    train_loss, train_acc = train_epoch(model, train_loader, criterion, optimizer, device)\n",
    "    \n",
    "    # Validate\n",
    "    val_loss, val_acc = validate_epoch(model, val_loader, criterion, device)\n",
    "    \n",
    "    # Update scheduler\n",
    "    scheduler.step()\n",
    "    \n",
    "    # Store metrics\n",
    "    train_losses.append(train_loss)\n",
    "    train_accuracies.append(train_acc)\n",
    "    val_losses.append(val_loss)\n",
    "    val_accuracies.append(val_acc)\n",
    "    \n",
    "    print(f\"Train Loss: {train_loss:.4f}, Train Acc: {train_acc:.2f}%\")\n",
    "    print(f\"Val Loss: {val_loss:.4f}, Val Acc: {val_acc:.2f}%\")\n",
    "    print(f\"Learning Rate: {optimizer.param_groups[0]['lr']:.6f}\")\n",
    "    \n",
    "    # Save best model\n",
    "    if val_acc > best_val_acc:\n",
    "        best_val_acc = val_acc\n",
    "        torch.save({\n",
    "            'epoch': epoch,\n",
    "            'model_state_dict': model.state_dict(),\n",
    "            'optimizer_state_dict': optimizer.state_dict(),\n",
    "            'val_acc': val_acc,\n",
    "            'label_encoder': label_encoder\n",
    "        }, 'best_animal_classifier.pth')\n",
    "        print(f\"New best model saved with validation accuracy: {val_acc:.2f}%\")\n",
    "\n",
    "total_time = time.time() - start_time\n",
    "print(f\"\\nTraining completed in {total_time/60:.1f} minutes\")\n",
    "print(f\"Best validation accuracy: {best_val_acc:.2f}%\")"
   ]
  },
  {
   "cell_type": "code",
   "execution_count": 12,
   "id": "a4e2214e",
   "metadata": {},
   "outputs": [
    {
     "data": {
      "image/png": "[encoded data removed]",
      "text/plain": [
       "<Figure size 1500x500 with 2 Axes>"
      ]
     },
     "metadata": {},
     "output_type": "display_data"
    },
    {
     "name": "stdout",
     "output_type": "stream",
     "text": [
      "\n",
      "Final Results:\n",
      "Final Train Accuracy: 99.20%\n",
      "Final Validation Accuracy: 80.13%\n",
      "Best Validation Accuracy: 80.13%\n"
     ]
    }
   ],
   "source": [
    "# Plot training history\n",
    "plt.figure(figsize=(15, 5))\n",
    "\n",
    "plt.subplot(1, 2, 1)\n",
    "plt.plot(train_losses, label='Train Loss', color='blue')\n",
    "plt.plot(val_losses, label='Validation Loss', color='red')\n",
    "plt.title('Training and Validation Loss')\n",
    "plt.xlabel('Epoch')\n",
    "plt.ylabel('Loss')\n",
    "plt.legend()\n",
    "plt.grid(True)\n",
    "\n",
    "plt.subplot(1, 2, 2)\n",
    "plt.plot(train_accuracies, label='Train Accuracy', color='blue')\n",
    "plt.plot(val_accuracies, label='Validation Accuracy', color='red')\n",
    "plt.title('Training and Validation Accuracy')\n",
    "plt.xlabel('Epoch')\n",
    "plt.ylabel('Accuracy (%)')\n",
    "plt.legend()\n",
    "plt.grid(True)\n",
    "\n",
    "plt.tight_layout()\n",
    "plt.show()\n",
    "\n",
    "# Print final results\n",
    "print(f\"\\nFinal Results:\")\n",
    "print(f\"Final Train Accuracy: {train_accuracies[-1]:.2f}%\")\n",
    "print(f\"Final Validation Accuracy: {val_accuracies[-1]:.2f}%\")\n",
    "print(f\"Best Validation Accuracy: {best_val_acc:.2f}%\")"
   ]
  },
  {
   "cell_type": "code",
   "execution_count": 13,
   "id": "063c93d7",
   "metadata": {},
   "outputs": [
    {
     "name": "stdout",
     "output_type": "stream",
     "text": [
      "Model inference functions ready!\n",
      "Use load_best_model() to load the trained model\n",
      "Use generate_test_predictions() to predict test images\n"
     ]
    }
   ],
   "source": [
    "# Load the best model for inference\n",
    "def load_best_model():\n",
    "    checkpoint = torch.load('best_animal_classifier.pth', map_location=device)\n",
    "    model = AnimalClassifier(num_classes=num_classes)\n",
    "    model.load_state_dict(checkpoint['model_state_dict'])\n",
    "    model = model.to(device)\n",
    "    model.eval()\n",
    "    return model, checkpoint['label_encoder']\n",
    "\n",
    "# Test inference function\n",
    "def predict_image(model, image_path, label_encoder, transform):\n",
    "    \"\"\"Predict the class of a single image\"\"\"\n",
    "    model.eval()\n",
    "    \n",
    "    # Load and preprocess image\n",
    "    try:\n",
    "        image = Image.open(image_path).convert('RGB')\n",
    "    except Exception as e:\n",
    "        print(f\"Error loading image {image_path}: {e}\")\n",
    "        return \"unknown\", 0.0\n",
    "    \n",
    "    image_tensor = transform(image).unsqueeze(0).to(device)\n",
    "    \n",
    "    with torch.no_grad():\n",
    "        outputs = model(image_tensor)\n",
    "        probabilities = torch.nn.functional.softmax(outputs, dim=1)\n",
    "        _, predicted = torch.max(outputs, 1)\n",
    "        \n",
    "    predicted_class = label_encoder.inverse_transform([predicted.cpu().numpy()[0]])[0]\n",
    "    confidence = probabilities.max().item()\n",
    "    \n",
    "    return predicted_class, confidence\n",
    "\n",
    "# Function to generate predictions for test data\n",
    "def generate_test_predictions(model, test_images_dir, label_encoder, transform, output_csv='predictions.csv'):\n",
    "    \"\"\"Generate predictions for all test images and save to CSV\"\"\"\n",
    "    model.eval()\n",
    "    \n",
    "    # Get all test image files\n",
    "    test_images = []\n",
    "    for file in os.listdir(test_images_dir):\n",
    "        if file.lower().endswith(('.png', '.jpg', '.jpeg')):\n",
    "            test_images.append(file)\n",
    "    \n",
    "    predictions = []\n",
    "    \n",
    "    print(f\"Predicting {len(test_images)} test images...\")\n",
    "    \n",
    "    for img_file in tqdm(test_images, desc=\"Predicting\"):\n",
    "        img_path = os.path.join(test_images_dir, img_file)\n",
    "        predicted_class, confidence = predict_image(model, img_path, label_encoder, transform)\n",
    "        \n",
    "        # Format path as required by the assignment\n",
    "        formatted_path = f\"test_data/images/{img_file}\"\n",
    "        predictions.append({\n",
    "            'path': formatted_path,\n",
    "            'predicted_label': predicted_class\n",
    "        })\n",
    "    \n",
    "    # Save predictions to CSV\n",
    "    pred_df = pd.DataFrame(predictions)\n",
    "    pred_df.to_csv(output_csv, index=False)\n",
    "    print(f\"Predictions saved to {output_csv}\")\n",
    "    \n",
    "    return pred_df\n",
    "\n",
    "print(\"Model inference functions ready!\")\n",
    "print(\"Use load_best_model() to load the trained model\")\n",
    "print(\"Use generate_test_predictions() to predict test images\")"
   ]
  },
  {
   "cell_type": "code",
   "execution_count": 14,
   "id": "0a5adc9c",
   "metadata": {},
   "outputs": [
    {
     "name": "stdout",
     "output_type": "stream",
     "text": [
      "Phase 1 Complete!\n",
      "🎯 ResNet-18 baseline model trained successfully\n",
      "✅ Best validation accuracy: 80.13%\n",
      "⚡ Training time: 1.0 minute (Metal acceleration)\n",
      "📊 Model saved as 'best_animal_classifier.pth'\n",
      "\n",
      "To generate test predictions:\n",
      "1. Uncomment the code above\n",
      "2. Update test_images_dir path\n",
      "3. Run the cell to generate predictions.csv\n"
     ]
    }
   ],
   "source": [
    "# Example: Generate predictions for test data\n",
    "# Uncomment the following lines when you have test data available\n",
    "\n",
    "# # Load the best trained model\n",
    "# best_model, best_label_encoder = load_best_model()\n",
    "\n",
    "# # Generate predictions for test images\n",
    "# test_images_dir = \"HV-AI-2025/unlabeled_data/images\"  # Update path as needed\n",
    "# predictions_df = generate_test_predictions(\n",
    "#     model=best_model,\n",
    "#     test_images_dir=test_images_dir,\n",
    "#     label_encoder=best_label_encoder,\n",
    "#     transform=val_transform,\n",
    "#     output_csv='predictions.csv'\n",
    "# )\n",
    "\n",
    "# # Display first few predictions\n",
    "# print(\"Sample predictions:\")\n",
    "# print(predictions_df.head(10))\n",
    "\n",
    "print(\"Phase 1 Complete!\")\n",
    "print(\"🎯 ResNet-18 baseline model trained successfully\")\n",
    "print(f\"✅ Best validation accuracy: {best_val_acc:.2f}%\")\n",
    "print(f\"⚡ Training time: 1.0 minute (Metal acceleration)\")\n",
    "print(\"📊 Model saved as 'best_animal_classifier.pth'\")\n",
    "print(\"\\nTo generate test predictions:\")\n",
    "print(\"1. Uncomment the code above\")\n",
    "print(\"2. Update test_images_dir path\")\n",
    "print(\"3. Run the cell to generate predictions.csv\")"
   ]
  },
  {
   "cell_type": "markdown",
   "id": "a1400f1c",
   "metadata": {},
   "source": [
    "# 🚀 **Phase 1 Enhanced Model - Accuracy Improvement Strategies**\n",
    "\n",
    "Let's implement several strategies to boost accuracy:\n",
    "1. **Better Architecture**: Use ResNet-50 or EfficientNet\n",
    "2. **Advanced Data Augmentation**: More sophisticated transforms\n",
    "3. **Better Training Strategy**: Cosine annealing, warmup, mixed precision\n",
    "4. **Class Balancing**: Handle imbalanced dataset\n",
    "5. **Test Time Augmentation**: Average predictions over multiple augmented versions"
   ]
  },
  {
   "cell_type": "code",
   "execution_count": 15,
   "id": "76b4c194",
   "metadata": {},
   "outputs": [
    {
     "name": "stdout",
     "output_type": "stream",
     "text": [
      "Enhanced model architecture and augmentations defined!\n"
     ]
    }
   ],
   "source": [
    "# Enhanced Model Architecture - ResNet-50 with improved features\n",
    "class EnhancedAnimalClassifier(nn.Module):\n",
    "    def __init__(self, num_classes=10, model_name='resnet50'):\n",
    "        super(EnhancedAnimalClassifier, self).__init__()\n",
    "        \n",
    "        # Use ResNet-50 for better performance\n",
    "        if model_name == 'resnet50':\n",
    "            self.backbone = models.resnet50(weights='IMAGENET1K_V2')\n",
    "            num_features = self.backbone.fc.in_features\n",
    "        elif model_name == 'efficientnet_b3':\n",
    "            self.backbone = models.efficientnet_b3(weights='IMAGENET1K_V1')\n",
    "            num_features = self.backbone.classifier[1].in_features\n",
    "            \n",
    "        # Enhanced classifier with dropout and batch norm\n",
    "        if model_name == 'resnet50':\n",
    "            self.backbone.fc = nn.Sequential(\n",
    "                nn.Dropout(0.5),\n",
    "                nn.Linear(num_features, 512),\n",
    "                nn.BatchNorm1d(512),\n",
    "                nn.ReLU(inplace=True),\n",
    "                nn.Dropout(0.3),\n",
    "                nn.Linear(512, num_classes)\n",
    "            )\n",
    "        else:  # efficientnet\n",
    "            self.backbone.classifier = nn.Sequential(\n",
    "                nn.Dropout(0.5),\n",
    "                nn.Linear(num_features, 512),\n",
    "                nn.BatchNorm1d(512),\n",
    "                nn.ReLU(inplace=True),\n",
    "                nn.Dropout(0.3),\n",
    "                nn.Linear(512, num_classes)\n",
    "            )\n",
    "        \n",
    "    def forward(self, x):\n",
    "        return self.backbone(x)\n",
    "\n",
    "# Enhanced Data Augmentation\n",
    "enhanced_train_transform = transforms.Compose([\n",
    "    transforms.Resize((256, 256)),\n",
    "    transforms.RandomCrop(224, padding=4),\n",
    "    transforms.RandomHorizontalFlip(p=0.5),\n",
    "    transforms.RandomVerticalFlip(p=0.2),\n",
    "    transforms.RandomRotation(degrees=20),\n",
    "    transforms.RandomAffine(degrees=0, translate=(0.1, 0.1), scale=(0.9, 1.1)),\n",
    "    transforms.ColorJitter(brightness=0.3, contrast=0.3, saturation=0.3, hue=0.2),\n",
    "    transforms.RandomGrayscale(p=0.1),\n",
    "    transforms.GaussianBlur(kernel_size=3, sigma=(0.1, 2.0)),\n",
    "    transforms.ToTensor(),\n",
    "    transforms.Normalize(mean=[0.485, 0.456, 0.406], std=[0.229, 0.224, 0.225]),\n",
    "    transforms.RandomErasing(p=0.1)\n",
    "])\n",
    "\n",
    "# Test time augmentation transform\n",
    "tta_transforms = [\n",
    "    transforms.Compose([\n",
    "        transforms.Resize((224, 224)),\n",
    "        transforms.ToTensor(),\n",
    "        transforms.Normalize(mean=[0.485, 0.456, 0.406], std=[0.229, 0.224, 0.225])\n",
    "    ]),\n",
    "    transforms.Compose([\n",
    "        transforms.Resize((224, 224)),\n",
    "        transforms.RandomHorizontalFlip(p=1.0),\n",
    "        transforms.ToTensor(),\n",
    "        transforms.Normalize(mean=[0.485, 0.456, 0.406], std=[0.229, 0.224, 0.225])\n",
    "    ]),\n",
    "    transforms.Compose([\n",
    "        transforms.Resize((256, 256)),\n",
    "        transforms.CenterCrop(224),\n",
    "        transforms.ToTensor(),\n",
    "        transforms.Normalize(mean=[0.485, 0.456, 0.406], std=[0.229, 0.224, 0.225])\n",
    "    ])\n",
    "]\n",
    "\n",
    "print(\"Enhanced model architecture and augmentations defined!\")"
   ]
  },
  {
   "cell_type": "code",
   "execution_count": 16,
   "id": "93b15e46",
   "metadata": {},
   "outputs": [
    {
     "name": "stdout",
     "output_type": "stream",
     "text": [
      "Class distribution:\n",
      "cane: 145 samples (weight: 0.537)\n",
      "cavallo: 78 samples (weight: 0.999)\n",
      "elefante: 43 samples (weight: 1.812)\n",
      "farfalla: 63 samples (weight: 1.237)\n",
      "gallina: 92 samples (weight: 0.847)\n",
      "gatto: 50 samples (weight: 1.558)\n",
      "mucca: 55 samples (weight: 1.416)\n",
      "pecora: 54 samples (weight: 1.443)\n",
      "ragno: 144 samples (weight: 0.541)\n",
      "scoiattolo: 55 samples (weight: 1.416)\n",
      "Downloading: \"https://download.pytorch.org/models/resnet50-11ad3fa6.pth\" to /Users/hariharan/.cache/torch/hub/checkpoints/resnet50-11ad3fa6.pth\n"
     ]
    },
    {
     "name": "stderr",
     "output_type": "stream",
     "text": [
      "100%|██████████| 97.8M/97.8M [00:09<00:00, 11.3MB/s]\n"
     ]
    },
    {
     "name": "stdout",
     "output_type": "stream",
     "text": [
      "Enhanced model parameters: 24,563,274\n",
      "Enhanced training setup complete!\n"
     ]
    }
   ],
   "source": [
    "# Class balancing for imbalanced dataset\n",
    "from sklearn.utils.class_weight import compute_class_weight\n",
    "\n",
    "# Compute class weights for balanced training\n",
    "class_counts = df['label'].value_counts().sort_index()\n",
    "class_weights = compute_class_weight('balanced', classes=np.unique(df['encoded_label']), y=df['encoded_label'])\n",
    "class_weights_tensor = torch.FloatTensor(class_weights).to(device)\n",
    "\n",
    "print(\"Class distribution:\")\n",
    "for i, (cls, count) in enumerate(zip(label_encoder.classes_, class_counts)):\n",
    "    print(f\"{cls}: {count} samples (weight: {class_weights[i]:.3f})\")\n",
    "\n",
    "# Enhanced datasets with new augmentations\n",
    "enhanced_train_dataset = AnimalDataset(train_df.reset_index(drop=True), images_dir, enhanced_train_transform)\n",
    "enhanced_val_dataset = AnimalDataset(val_df.reset_index(drop=True), images_dir, val_transform)\n",
    "\n",
    "# Enhanced data loaders\n",
    "enhanced_train_loader = DataLoader(enhanced_train_dataset, batch_size=batch_size, shuffle=True, \n",
    "                                 num_workers=0, pin_memory=True)\n",
    "enhanced_val_loader = DataLoader(enhanced_val_dataset, batch_size=batch_size, shuffle=False, \n",
    "                                num_workers=0, pin_memory=True)\n",
    "\n",
    "# Initialize enhanced model\n",
    "enhanced_model = EnhancedAnimalClassifier(num_classes=num_classes, model_name='resnet50')\n",
    "enhanced_model = enhanced_model.to(device)\n",
    "\n",
    "# Enhanced training setup\n",
    "enhanced_criterion = nn.CrossEntropyLoss(weight=class_weights_tensor)\n",
    "enhanced_optimizer = optim.AdamW(enhanced_model.parameters(), lr=0.001, weight_decay=0.01)\n",
    "\n",
    "# Cosine annealing scheduler for better convergence\n",
    "enhanced_scheduler = optim.lr_scheduler.CosineAnnealingWarmRestarts(\n",
    "    enhanced_optimizer, T_0=5, T_mult=2, eta_min=1e-6\n",
    ")\n",
    "\n",
    "print(f\"Enhanced model parameters: {sum(p.numel() for p in enhanced_model.parameters()):,}\")\n",
    "print(\"Enhanced training setup complete!\")"
   ]
  },
  {
   "cell_type": "code",
   "execution_count": 17,
   "id": "dc06c819",
   "metadata": {},
   "outputs": [
    {
     "name": "stdout",
     "output_type": "stream",
     "text": [
      "Enhanced training functions with TTA ready!\n"
     ]
    }
   ],
   "source": [
    "# Enhanced training function with label smoothing\n",
    "class LabelSmoothingCrossEntropy(nn.Module):\n",
    "    def __init__(self, epsilon=0.1, weight=None):\n",
    "        super().__init__()\n",
    "        self.epsilon = epsilon\n",
    "        self.weight = weight\n",
    "        \n",
    "    def forward(self, preds, target):\n",
    "        n = preds.size()[-1]\n",
    "        log_preds = torch.log_softmax(preds, dim=-1)\n",
    "        loss = -log_preds.sum(dim=-1).mean()\n",
    "        nll = torch.nn.functional.nll_loss(log_preds, target, weight=self.weight, reduction='mean')\n",
    "        return (1 - self.epsilon) * nll + self.epsilon * loss / n\n",
    "\n",
    "def enhanced_train_epoch(model, train_loader, criterion, optimizer, scheduler, device, epoch):\n",
    "    model.train()\n",
    "    running_loss = 0.0\n",
    "    correct = 0\n",
    "    total = 0\n",
    "    \n",
    "    progress_bar = tqdm(train_loader, desc=f\"Enhanced Training Epoch {epoch}\")\n",
    "    \n",
    "    for batch_idx, (data, targets) in enumerate(progress_bar):\n",
    "        data, targets = data.to(device), targets.to(device)\n",
    "        \n",
    "        # Zero gradients\n",
    "        optimizer.zero_grad()\n",
    "        \n",
    "        # Forward pass\n",
    "        outputs = model(data)\n",
    "        loss = criterion(outputs, targets)\n",
    "        \n",
    "        # Backward pass\n",
    "        loss.backward()\n",
    "        \n",
    "        # Gradient clipping for stability\n",
    "        torch.nn.utils.clip_grad_norm_(model.parameters(), max_norm=1.0)\n",
    "        \n",
    "        optimizer.step()\n",
    "        scheduler.step(epoch + batch_idx / len(train_loader))\n",
    "        \n",
    "        # Statistics\n",
    "        running_loss += loss.item()\n",
    "        _, predicted = outputs.max(1)\n",
    "        total += targets.size(0)\n",
    "        correct += predicted.eq(targets).sum().item()\n",
    "        \n",
    "        # Update progress bar\n",
    "        progress_bar.set_postfix({\n",
    "            'Loss': f'{running_loss/(batch_idx+1):.4f}',\n",
    "            'Acc': f'{100.*correct/total:.2f}%',\n",
    "            'LR': f'{optimizer.param_groups[0][\"lr\"]:.6f}'\n",
    "        })\n",
    "    \n",
    "    epoch_loss = running_loss / len(train_loader)\n",
    "    epoch_acc = 100. * correct / total\n",
    "    \n",
    "    return epoch_loss, epoch_acc\n",
    "\n",
    "# Test Time Augmentation for better inference\n",
    "def predict_with_tta(model, image_path, label_encoder, tta_transforms, device):\n",
    "    \"\"\"Predict with Test Time Augmentation\"\"\"\n",
    "    model.eval()\n",
    "    \n",
    "    try:\n",
    "        image = Image.open(image_path).convert('RGB')\n",
    "    except Exception as e:\n",
    "        return \"unknown\", 0.0\n",
    "    \n",
    "    predictions = []\n",
    "    \n",
    "    with torch.no_grad():\n",
    "        for transform in tta_transforms:\n",
    "            image_tensor = transform(image).unsqueeze(0).to(device)\n",
    "            outputs = model(image_tensor)\n",
    "            probabilities = torch.nn.functional.softmax(outputs, dim=1)\n",
    "            predictions.append(probabilities.cpu().numpy())\n",
    "    \n",
    "    # Average predictions\n",
    "    avg_predictions = np.mean(predictions, axis=0)\n",
    "    predicted_class_idx = np.argmax(avg_predictions)\n",
    "    confidence = avg_predictions[0][predicted_class_idx]\n",
    "    \n",
    "    predicted_class = label_encoder.inverse_transform([predicted_class_idx])[0]\n",
    "    \n",
    "    return predicted_class, confidence\n",
    "\n",
    "print(\"Enhanced training functions with TTA ready!\")"
   ]
  },
  {
   "cell_type": "code",
   "execution_count": 18,
   "id": "188922c0",
   "metadata": {},
   "outputs": [
    {
     "name": "stdout",
     "output_type": "stream",
     "text": [
      "🚀 Starting Enhanced Training with all accuracy boosting techniques...\n",
      "\n",
      "🔥 Enhanced Epoch 1/20\n",
      "------------------------------------------------------------\n"
     ]
    },
    {
     "name": "stderr",
     "output_type": "stream",
     "text": [
      "Enhanced Training Epoch 0:   0%|          | 0/20 [00:00<?, ?it/s]/Users/hariharan/Hiring/HyperVerge/venv/lib/python3.13/site-packages/torch/utils/data/dataloader.py:683: UserWarning: 'pin_memory' argument is set as true but not supported on MPS now, then device pinned memory won't be used.\n",
      "  warnings.warn(warn_msg)\n",
      "Enhanced Training Epoch 0: 100%|██████████| 20/20 [00:12<00:00,  1.57it/s, Loss=1.7594, Acc=47.99%, LR=0.000914]\n",
      "Validation: 100%|██████████| 5/5 [00:00<00:00,  7.51it/s, Loss=2.0408, Acc=37.18%]\n"
     ]
    },
    {
     "name": "stdout",
     "output_type": "stream",
     "text": [
      "📊 Train Loss: 1.7594, Train Acc: 47.99%\n",
      "📊 Val Loss: 2.0408, Val Acc: 37.18%\n",
      "📊 Learning Rate: 0.000914\n",
      "🎯 NEW BEST! Model saved with validation accuracy: 37.18%\n",
      "\n",
      "🔥 Enhanced Epoch 2/20\n",
      "------------------------------------------------------------\n"
     ]
    },
    {
     "name": "stderr",
     "output_type": "stream",
     "text": [
      "Enhanced Training Epoch 1: 100%|██████████| 20/20 [00:08<00:00,  2.32it/s, Loss=1.5268, Acc=55.22%, LR=0.000670]\n",
      "Validation: 100%|██████████| 5/5 [00:00<00:00,  8.07it/s, Loss=1.7873, Acc=46.15%]\n"
     ]
    },
    {
     "name": "stdout",
     "output_type": "stream",
     "text": [
      "📊 Train Loss: 1.5268, Train Acc: 55.22%\n",
      "📊 Val Loss: 1.7873, Val Acc: 46.15%\n",
      "📊 Learning Rate: 0.000670\n",
      "🎯 NEW BEST! Model saved with validation accuracy: 46.15%\n",
      "\n",
      "🔥 Enhanced Epoch 3/20\n",
      "------------------------------------------------------------\n"
     ]
    },
    {
     "name": "stderr",
     "output_type": "stream",
     "text": [
      "Enhanced Training Epoch 2: 100%|██████████| 20/20 [00:08<00:00,  2.29it/s, Loss=1.2758, Acc=67.42%, LR=0.000361]\n",
      "Validation: 100%|██████████| 5/5 [00:00<00:00,  8.09it/s, Loss=1.2922, Acc=57.69%]\n"
     ]
    },
    {
     "name": "stdout",
     "output_type": "stream",
     "text": [
      "📊 Train Loss: 1.2758, Train Acc: 67.42%\n",
      "📊 Val Loss: 1.2922, Val Acc: 57.69%\n",
      "📊 Learning Rate: 0.000361\n",
      "🎯 NEW BEST! Model saved with validation accuracy: 57.69%\n",
      "\n",
      "🔥 Enhanced Epoch 4/20\n",
      "------------------------------------------------------------\n"
     ]
    },
    {
     "name": "stderr",
     "output_type": "stream",
     "text": [
      "Enhanced Training Epoch 3: 100%|██████████| 20/20 [00:08<00:00,  2.29it/s, Loss=1.0644, Acc=75.44%, LR=0.000106]\n",
      "Validation: 100%|██████████| 5/5 [00:00<00:00,  7.75it/s, Loss=0.9252, Acc=69.87%]\n"
     ]
    },
    {
     "name": "stdout",
     "output_type": "stream",
     "text": [
      "📊 Train Loss: 1.0644, Train Acc: 75.44%\n",
      "📊 Val Loss: 0.9252, Val Acc: 69.87%\n",
      "📊 Learning Rate: 0.000106\n",
      "🎯 NEW BEST! Model saved with validation accuracy: 69.87%\n",
      "\n",
      "🔥 Enhanced Epoch 5/20\n",
      "------------------------------------------------------------\n"
     ]
    },
    {
     "name": "stderr",
     "output_type": "stream",
     "text": [
      "Enhanced Training Epoch 4: 100%|██████████| 20/20 [00:08<00:00,  2.24it/s, Loss=0.9666, Acc=80.90%, LR=0.000001]\n",
      "Validation: 100%|██████████| 5/5 [00:00<00:00,  7.76it/s, Loss=0.8575, Acc=69.23%]\n"
     ]
    },
    {
     "name": "stdout",
     "output_type": "stream",
     "text": [
      "📊 Train Loss: 0.9666, Train Acc: 80.90%\n",
      "📊 Val Loss: 0.8575, Val Acc: 69.23%\n",
      "📊 Learning Rate: 0.000001\n",
      "\n",
      "🔥 Enhanced Epoch 6/20\n",
      "------------------------------------------------------------\n"
     ]
    },
    {
     "name": "stderr",
     "output_type": "stream",
     "text": [
      "Enhanced Training Epoch 5: 100%|██████████| 20/20 [00:08<00:00,  2.33it/s, Loss=1.1519, Acc=74.00%, LR=0.000978]\n",
      "Validation: 100%|██████████| 5/5 [00:00<00:00,  8.26it/s, Loss=1.4722, Acc=51.92%]\n"
     ]
    },
    {
     "name": "stdout",
     "output_type": "stream",
     "text": [
      "📊 Train Loss: 1.1519, Train Acc: 74.00%\n",
      "📊 Val Loss: 1.4722, Val Acc: 51.92%\n",
      "📊 Learning Rate: 0.000978\n",
      "\n",
      "🔥 Enhanced Epoch 7/20\n",
      "------------------------------------------------------------\n"
     ]
    },
    {
     "name": "stderr",
     "output_type": "stream",
     "text": [
      "Enhanced Training Epoch 6: 100%|██████████| 20/20 [00:08<00:00,  2.34it/s, Loss=1.2314, Acc=67.42%, LR=0.000909]\n",
      "Validation: 100%|██████████| 5/5 [00:00<00:00,  7.87it/s, Loss=1.6009, Acc=51.92%]\n"
     ]
    },
    {
     "name": "stdout",
     "output_type": "stream",
     "text": [
      "📊 Train Loss: 1.2314, Train Acc: 67.42%\n",
      "📊 Val Loss: 1.6009, Val Acc: 51.92%\n",
      "📊 Learning Rate: 0.000909\n",
      "\n",
      "🔥 Enhanced Epoch 8/20\n",
      "------------------------------------------------------------\n"
     ]
    },
    {
     "name": "stderr",
     "output_type": "stream",
     "text": [
      "Enhanced Training Epoch 7: 100%|██████████| 20/20 [00:08<00:00,  2.29it/s, Loss=1.1271, Acc=72.55%, LR=0.000800]\n",
      "Validation: 100%|██████████| 5/5 [00:00<00:00,  7.83it/s, Loss=1.3783, Acc=56.41%]\n"
     ]
    },
    {
     "name": "stdout",
     "output_type": "stream",
     "text": [
      "📊 Train Loss: 1.1271, Train Acc: 72.55%\n",
      "📊 Val Loss: 1.3783, Val Acc: 56.41%\n",
      "📊 Learning Rate: 0.000800\n",
      "\n",
      "🔥 Enhanced Epoch 9/20\n",
      "------------------------------------------------------------\n"
     ]
    },
    {
     "name": "stderr",
     "output_type": "stream",
     "text": [
      "Enhanced Training Epoch 8: 100%|██████████| 20/20 [00:08<00:00,  2.32it/s, Loss=1.1004, Acc=74.64%, LR=0.000662]\n",
      "Validation: 100%|██████████| 5/5 [00:00<00:00,  8.46it/s, Loss=1.3204, Acc=59.62%]\n"
     ]
    },
    {
     "name": "stdout",
     "output_type": "stream",
     "text": [
      "📊 Train Loss: 1.1004, Train Acc: 74.64%\n",
      "📊 Val Loss: 1.3204, Val Acc: 59.62%\n",
      "📊 Learning Rate: 0.000662\n",
      "\n",
      "🔥 Enhanced Epoch 10/20\n",
      "------------------------------------------------------------\n"
     ]
    },
    {
     "name": "stderr",
     "output_type": "stream",
     "text": [
      "Enhanced Training Epoch 9: 100%|██████████| 20/20 [00:08<00:00,  2.30it/s, Loss=0.9771, Acc=79.78%, LR=0.000508]\n",
      "Validation: 100%|██████████| 5/5 [00:00<00:00,  7.81it/s, Loss=1.2264, Acc=62.82%]\n"
     ]
    },
    {
     "name": "stdout",
     "output_type": "stream",
     "text": [
      "📊 Train Loss: 0.9771, Train Acc: 79.78%\n",
      "📊 Val Loss: 1.2264, Val Acc: 62.82%\n",
      "📊 Learning Rate: 0.000508\n",
      "\n",
      "🔥 Enhanced Epoch 11/20\n",
      "------------------------------------------------------------\n"
     ]
    },
    {
     "name": "stderr",
     "output_type": "stream",
     "text": [
      "Enhanced Training Epoch 10: 100%|██████████| 20/20 [00:08<00:00,  2.32it/s, Loss=0.9155, Acc=83.31%, LR=0.000354]\n",
      "Validation: 100%|██████████| 5/5 [00:00<00:00,  7.98it/s, Loss=1.3770, Acc=62.18%]\n"
     ]
    },
    {
     "name": "stdout",
     "output_type": "stream",
     "text": [
      "📊 Train Loss: 0.9155, Train Acc: 83.31%\n",
      "📊 Val Loss: 1.3770, Val Acc: 62.18%\n",
      "📊 Learning Rate: 0.000354\n",
      "\n",
      "🔥 Enhanced Epoch 12/20\n",
      "------------------------------------------------------------\n"
     ]
    },
    {
     "name": "stderr",
     "output_type": "stream",
     "text": [
      "Enhanced Training Epoch 11: 100%|██████████| 20/20 [00:08<00:00,  2.36it/s, Loss=0.8544, Acc=86.20%, LR=0.000213]\n",
      "Validation: 100%|██████████| 5/5 [00:00<00:00,  8.24it/s, Loss=0.9173, Acc=72.44%]\n"
     ]
    },
    {
     "name": "stdout",
     "output_type": "stream",
     "text": [
      "📊 Train Loss: 0.8544, Train Acc: 86.20%\n",
      "📊 Val Loss: 0.9173, Val Acc: 72.44%\n",
      "📊 Learning Rate: 0.000213\n",
      "🎯 NEW BEST! Model saved with validation accuracy: 72.44%\n",
      "\n",
      "🔥 Enhanced Epoch 13/20\n",
      "------------------------------------------------------------\n"
     ]
    },
    {
     "name": "stderr",
     "output_type": "stream",
     "text": [
      "Enhanced Training Epoch 12: 100%|██████████| 20/20 [00:08<00:00,  2.31it/s, Loss=0.7374, Acc=91.17%, LR=0.000101]\n",
      "Validation: 100%|██████████| 5/5 [00:00<00:00,  8.14it/s, Loss=0.7880, Acc=75.64%]\n"
     ]
    },
    {
     "name": "stdout",
     "output_type": "stream",
     "text": [
      "📊 Train Loss: 0.7374, Train Acc: 91.17%\n",
      "📊 Val Loss: 0.7880, Val Acc: 75.64%\n",
      "📊 Learning Rate: 0.000101\n",
      "🎯 NEW BEST! Model saved with validation accuracy: 75.64%\n",
      "\n",
      "🔥 Enhanced Epoch 14/20\n",
      "------------------------------------------------------------\n"
     ]
    },
    {
     "name": "stderr",
     "output_type": "stream",
     "text": [
      "Enhanced Training Epoch 13: 100%|██████████| 20/20 [00:08<00:00,  2.30it/s, Loss=0.7411, Acc=92.30%, LR=0.000028]\n",
      "Validation: 100%|██████████| 5/5 [00:00<00:00,  8.12it/s, Loss=0.7765, Acc=79.49%]\n"
     ]
    },
    {
     "name": "stdout",
     "output_type": "stream",
     "text": [
      "📊 Train Loss: 0.7411, Train Acc: 92.30%\n",
      "📊 Val Loss: 0.7765, Val Acc: 79.49%\n",
      "📊 Learning Rate: 0.000028\n",
      "🎯 NEW BEST! Model saved with validation accuracy: 79.49%\n",
      "\n",
      "🔥 Enhanced Epoch 15/20\n",
      "------------------------------------------------------------\n"
     ]
    },
    {
     "name": "stderr",
     "output_type": "stream",
     "text": [
      "Enhanced Training Epoch 14: 100%|██████████| 20/20 [00:08<00:00,  2.32it/s, Loss=0.7111, Acc=92.30%, LR=0.000001]\n",
      "Validation: 100%|██████████| 5/5 [00:00<00:00,  8.00it/s, Loss=0.7713, Acc=79.49%]\n"
     ]
    },
    {
     "name": "stdout",
     "output_type": "stream",
     "text": [
      "📊 Train Loss: 0.7111, Train Acc: 92.30%\n",
      "📊 Val Loss: 0.7713, Val Acc: 79.49%\n",
      "📊 Learning Rate: 0.000001\n",
      "\n",
      "🔥 Enhanced Epoch 16/20\n",
      "------------------------------------------------------------\n"
     ]
    },
    {
     "name": "stderr",
     "output_type": "stream",
     "text": [
      "Enhanced Training Epoch 15: 100%|██████████| 20/20 [00:09<00:00,  2.22it/s, Loss=0.8611, Acc=82.99%, LR=0.000994]\n",
      "Validation: 100%|██████████| 5/5 [00:00<00:00,  7.73it/s, Loss=1.9123, Acc=45.51%]"
     ]
    },
    {
     "name": "stdout",
     "output_type": "stream",
     "text": [
      "📊 Train Loss: 0.8611, Train Acc: 82.99%\n",
      "📊 Val Loss: 1.9123, Val Acc: 45.51%\n",
      "📊 Learning Rate: 0.000994\n",
      "📈 Early stopping triggered - accuracy plateau detected\n",
      "\n",
      "✅ Enhanced training completed in 2.6 minutes\n",
      "🏆 Best enhanced validation accuracy: 79.49%\n",
      "📈 Improvement over baseline: +-0.64% accuracy!\n"
     ]
    },
    {
     "name": "stderr",
     "output_type": "stream",
     "text": [
      "\n"
     ]
    }
   ],
   "source": [
    "# Enhanced Training Loop with all improvements\n",
    "print(\"🚀 Starting Enhanced Training with all accuracy boosting techniques...\")\n",
    "\n",
    "# Use label smoothing\n",
    "enhanced_criterion_smooth = LabelSmoothingCrossEntropy(epsilon=0.1, weight=class_weights_tensor)\n",
    "\n",
    "# Enhanced training parameters\n",
    "enhanced_epochs = 20\n",
    "best_enhanced_acc = 0.0\n",
    "enhanced_train_losses = []\n",
    "enhanced_train_accuracies = []\n",
    "enhanced_val_losses = []\n",
    "enhanced_val_accuracies = []\n",
    "\n",
    "start_time = time.time()\n",
    "\n",
    "for epoch in range(enhanced_epochs):\n",
    "    print(f\"\\n🔥 Enhanced Epoch {epoch+1}/{enhanced_epochs}\")\n",
    "    print(\"-\" * 60)\n",
    "    \n",
    "    # Train with enhancements\n",
    "    train_loss, train_acc = enhanced_train_epoch(\n",
    "        enhanced_model, enhanced_train_loader, enhanced_criterion_smooth, \n",
    "        enhanced_optimizer, enhanced_scheduler, device, epoch\n",
    "    )\n",
    "    \n",
    "    # Validate\n",
    "    val_loss, val_acc = validate_epoch(enhanced_model, enhanced_val_loader, enhanced_criterion, device)\n",
    "    \n",
    "    # Store metrics\n",
    "    enhanced_train_losses.append(train_loss)\n",
    "    enhanced_train_accuracies.append(train_acc)\n",
    "    enhanced_val_losses.append(val_loss)\n",
    "    enhanced_val_accuracies.append(val_acc)\n",
    "    \n",
    "    print(f\"📊 Train Loss: {train_loss:.4f}, Train Acc: {train_acc:.2f}%\")\n",
    "    print(f\"📊 Val Loss: {val_loss:.4f}, Val Acc: {val_acc:.2f}%\")\n",
    "    print(f\"📊 Learning Rate: {enhanced_optimizer.param_groups[0]['lr']:.6f}\")\n",
    "    \n",
    "    # Save best model\n",
    "    if val_acc > best_enhanced_acc:\n",
    "        best_enhanced_acc = val_acc\n",
    "        torch.save({\n",
    "            'epoch': epoch,\n",
    "            'model_state_dict': enhanced_model.state_dict(),\n",
    "            'optimizer_state_dict': enhanced_optimizer.state_dict(),\n",
    "            'val_acc': val_acc,\n",
    "            'label_encoder': label_encoder,\n",
    "            'class_weights': class_weights_tensor,\n",
    "            'model_name': 'resnet50_enhanced'\n",
    "        }, 'best_enhanced_animal_classifier.pth')\n",
    "        print(f\"🎯 NEW BEST! Model saved with validation accuracy: {val_acc:.2f}%\")\n",
    "    \n",
    "    # Early stopping if accuracy plateaus\n",
    "    if epoch > 10 and val_acc < best_enhanced_acc - 5:\n",
    "        print(\"📈 Early stopping triggered - accuracy plateau detected\")\n",
    "        break\n",
    "\n",
    "total_enhanced_time = time.time() - start_time\n",
    "print(f\"\\n✅ Enhanced training completed in {total_enhanced_time/60:.1f} minutes\")\n",
    "print(f\"🏆 Best enhanced validation accuracy: {best_enhanced_acc:.2f}%\")\n",
    "\n",
    "# Compare with baseline\n",
    "improvement = best_enhanced_acc - best_val_acc\n",
    "print(f\"📈 Improvement over baseline: +{improvement:.2f}% accuracy!\")"
   ]
  },
  {
   "cell_type": "code",
   "execution_count": 19,
   "id": "39b6e038",
   "metadata": {},
   "outputs": [
    {
     "data": {
      "image/png": "[encoded data removed]",
      "text/plain": [
       "<Figure size 2000x500 with 3 Axes>"
      ]
     },
     "metadata": {},
     "output_type": "display_data"
    },
    {
     "name": "stdout",
     "output_type": "stream",
     "text": [
      "🎯 Enhanced model training complete and ready for submission!\n"
     ]
    }
   ],
   "source": [
    "# 📤 Generate Phase 1 Submission File\n",
    "def generate_phase1_predictions(model, test_images_dir, label_encoder, tta_transforms, device, output_csv='phase1_predictions.csv'):\n",
    "    \"\"\"Generate Phase 1 predictions in required submission format with TTA\"\"\"\n",
    "    model.eval()\n",
    "    \n",
    "    # Get all test image files\n",
    "    test_images = []\n",
    "    for file in os.listdir(test_images_dir):\n",
    "        if file.lower().endswith(('.png', '.jpg', '.jpeg')):\n",
    "            test_images.append(file)\n",
    "    \n",
    "    predictions = []\n",
    "    \n",
    "    print(f\"🔍 Generating Phase 1 predictions for {len(test_images)} test images with TTA...\")\n",
    "    \n",
    "    for img_file in tqdm(test_images, desc=\"Predicting with TTA\"):\n",
    "        img_path = os.path.join(test_images_dir, img_file)\n",
    "        predicted_class, confidence = predict_with_tta(model, img_path, label_encoder, tta_transforms, device)\n",
    "        \n",
    "        # Format exactly as required by submission\n",
    "        predictions.append({\n",
    "            'path': img_file,  # Just filename as shown in example\n",
    "            'predicted_label': predicted_class\n",
    "        })\n",
    "    \n",
    "    # Save predictions to CSV in exact required format\n",
    "    pred_df = pd.DataFrame(predictions)\n",
    "    pred_df.to_csv(output_csv, index=False)\n",
    "    \n",
    "    print(f\"✅ Phase 1 predictions saved to {output_csv}\")\n",
    "    print(f\"📊 Format: path,predicted_label\")\n",
    "    print(f\"📊 Total predictions: {len(predictions)}\")\n",
    "    \n",
    "    # Show sample predictions\n",
    "    print(f\"\\n📋 Sample predictions:\")\n",
    "    print(pred_df.head(10))\n",
    "    \n",
    "    # Show class distribution in predictions\n",
    "    print(f\"\\n📈 Predicted class distribution:\")\n",
    "    print(pred_df['predicted_label'].value_counts())\n",
    "    \n",
    "    return pred_df\n",
    "\n",
    "# Enhanced visualization of training progress\n",
    "plt.figure(figsize=(20, 5))\n",
    "\n",
    "plt.subplot(1, 3, 1)\n",
    "plt.plot(enhanced_train_losses, label='Enhanced Train Loss', color='darkblue', linewidth=2)\n",
    "plt.plot(enhanced_val_losses, label='Enhanced Validation Loss', color='darkred', linewidth=2)\n",
    "plt.plot(train_losses, label='Baseline Train Loss', color='lightblue', alpha=0.7)\n",
    "plt.plot(val_losses, label='Baseline Val Loss', color='lightcoral', alpha=0.7)\n",
    "plt.title('Enhanced vs Baseline: Training Loss')\n",
    "plt.xlabel('Epoch')\n",
    "plt.ylabel('Loss')\n",
    "plt.legend()\n",
    "plt.grid(True, alpha=0.3)\n",
    "\n",
    "plt.subplot(1, 3, 2)\n",
    "plt.plot(enhanced_train_accuracies, label='Enhanced Train Acc', color='darkblue', linewidth=2)\n",
    "plt.plot(enhanced_val_accuracies, label='Enhanced Val Acc', color='darkred', linewidth=2)\n",
    "plt.plot(train_accuracies, label='Baseline Train Acc', color='lightblue', alpha=0.7)\n",
    "plt.plot(val_accuracies, label='Baseline Val Acc', color='lightcoral', alpha=0.7)\n",
    "plt.title('Enhanced vs Baseline: Accuracy')\n",
    "plt.xlabel('Epoch')\n",
    "plt.ylabel('Accuracy (%)')\n",
    "plt.legend()\n",
    "plt.grid(True, alpha=0.3)\n",
    "\n",
    "plt.subplot(1, 3, 3)\n",
    "models = ['Baseline\\nResNet-18', 'Enhanced\\nResNet-50']\n",
    "accuracies = [best_val_acc, best_enhanced_acc]\n",
    "colors = ['lightblue', 'darkred']\n",
    "bars = plt.bar(models, accuracies, color=colors, alpha=0.8)\n",
    "plt.title('Model Comparison')\n",
    "plt.ylabel('Validation Accuracy (%)')\n",
    "plt.ylim(0, 100)\n",
    "\n",
    "# Add value labels on bars\n",
    "for bar, acc in zip(bars, accuracies):\n",
    "    plt.text(bar.get_x() + bar.get_width()/2, bar.get_height() + 1, \n",
    "             f'{acc:.2f}%', ha='center', va='bottom', fontweight='bold')\n",
    "\n",
    "plt.tight_layout()\n",
    "plt.show()\n",
    "\n",
    "print(\"🎯 Enhanced model training complete and ready for submission!\")"
   ]
  },
  {
   "cell_type": "code",
   "execution_count": 20,
   "id": "59fd5d8d",
   "metadata": {},
   "outputs": [
    {
     "name": "stdout",
     "output_type": "stream",
     "text": [
      "================================================================================\n",
      "🚀 PHASE 1 ENHANCED MODEL SUMMARY\n",
      "================================================================================\n",
      "📊 BASELINE MODEL (ResNet-18):\n",
      "   ✅ Validation Accuracy: 80.13%\n",
      "   ⚡ Training Time: 1.0 minute\n",
      "   🧠 Parameters: 11.18M\n",
      "\n",
      "📊 ENHANCED MODEL (ResNet-50):\n",
      "   ✅ Validation Accuracy: 79.49%\n",
      "   ⚡ Training Time: 2.6 minutes\n",
      "   🧠 Parameters: 24.56M\n",
      "   🎯 Improvement: -0.64%\n",
      "\n",
      "🔧 ENHANCEMENT TECHNIQUES APPLIED:\n",
      "   🏗️  ResNet-50 Architecture (vs ResNet-18)\n",
      "   🎨 Advanced Data Augmentation (10+ transforms)\n",
      "   ⚖️  Class Weight Balancing for imbalanced data\n",
      "   🤖 Label Smoothing (ε=0.1)\n",
      "   📚 Cosine Annealing with Warm Restarts\n",
      "   ✂️  Gradient Clipping for stability\n",
      "   🔍 Test Time Augmentation (TTA)\n",
      "   🛑 Early Stopping\n",
      "\n",
      "📤 TO GENERATE PHASE 1 SUBMISSION:\n",
      "   1. Load best enhanced model: load_best_model()\n",
      "   2. Run: generate_phase1_predictions(model, test_dir, label_encoder, tta_transforms, device)\n",
      "   3. Submit: phase1_predictions.csv\n",
      "\n",
      "🎯 MODEL FILES SAVED:\n",
      "   📁 best_animal_classifier.pth (Baseline ResNet-18)\n",
      "   📁 best_enhanced_animal_classifier.pth (Enhanced ResNet-50)\n",
      "================================================================================\n",
      "\n",
      "📋 EXAMPLE SUBMISSION CODE:\n",
      "\n",
      "# Load the best enhanced model\n",
      "checkpoint = torch.load('best_enhanced_animal_classifier.pth', map_location=device)\n",
      "enhanced_model_final = EnhancedAnimalClassifier(num_classes=10, model_name='resnet50')\n",
      "enhanced_model_final.load_state_dict(checkpoint['model_state_dict'])\n",
      "enhanced_model_final = enhanced_model_final.to(device)\n",
      "\n",
      "# Generate Phase 1 predictions with TTA\n",
      "test_images_dir = \"path/to/test/images\"  # Update this path\n",
      "phase1_df = generate_phase1_predictions(\n",
      "    model=enhanced_model_final,\n",
      "    test_images_dir=test_images_dir,\n",
      "    label_encoder=label_encoder,\n",
      "    tta_transforms=tta_transforms,\n",
      "    device=device,\n",
      "    output_csv='phase1_predictions.csv'\n",
      ")\n",
      "\n"
     ]
    }
   ],
   "source": [
    "# 🏆 FINAL PHASE 1 SUBMISSION READY!\n",
    "\n",
    "print(\"=\" * 80)\n",
    "print(\"🚀 PHASE 1 ENHANCED MODEL SUMMARY\")\n",
    "print(\"=\" * 80)\n",
    "\n",
    "print(f\"📊 BASELINE MODEL (ResNet-18):\")\n",
    "print(f\"   ✅ Validation Accuracy: {best_val_acc:.2f}%\")\n",
    "print(f\"   ⚡ Training Time: 1.0 minute\")\n",
    "print(f\"   🧠 Parameters: 11.18M\")\n",
    "\n",
    "print(f\"\\n📊 ENHANCED MODEL (ResNet-50):\")\n",
    "print(f\"   ✅ Validation Accuracy: {best_enhanced_acc:.2f}%\")\n",
    "print(f\"   ⚡ Training Time: 2.6 minutes\")\n",
    "print(f\"   🧠 Parameters: 24.56M\")\n",
    "print(f\"   🎯 Improvement: {best_enhanced_acc - best_val_acc:+.2f}%\")\n",
    "\n",
    "print(f\"\\n🔧 ENHANCEMENT TECHNIQUES APPLIED:\")\n",
    "print(f\"   🏗️  ResNet-50 Architecture (vs ResNet-18)\")\n",
    "print(f\"   🎨 Advanced Data Augmentation (10+ transforms)\")\n",
    "print(f\"   ⚖️  Class Weight Balancing for imbalanced data\")\n",
    "print(f\"   🤖 Label Smoothing (ε=0.1)\")\n",
    "print(f\"   📚 Cosine Annealing with Warm Restarts\")\n",
    "print(f\"   ✂️  Gradient Clipping for stability\")\n",
    "print(f\"   🔍 Test Time Augmentation (TTA)\")\n",
    "print(f\"   🛑 Early Stopping\")\n",
    "\n",
    "print(f\"\\n📤 TO GENERATE PHASE 1 SUBMISSION:\")\n",
    "print(f\"   1. Load best enhanced model: load_best_model()\")\n",
    "print(f\"   2. Run: generate_phase1_predictions(model, test_dir, label_encoder, tta_transforms, device)\")\n",
    "print(f\"   3. Submit: phase1_predictions.csv\")\n",
    "\n",
    "print(f\"\\n🎯 MODEL FILES SAVED:\")\n",
    "print(f\"   📁 best_animal_classifier.pth (Baseline ResNet-18)\")\n",
    "print(f\"   📁 best_enhanced_animal_classifier.pth (Enhanced ResNet-50)\")\n",
    "\n",
    "print(\"=\" * 80)\n",
    "\n",
    "# Example code for generating final submission (uncomment when test data is available)\n",
    "print(\"\\n📋 EXAMPLE SUBMISSION CODE:\")\n",
    "print(\"\"\"\n",
    "# Load the best enhanced model\n",
    "checkpoint = torch.load('best_enhanced_animal_classifier.pth', map_location=device)\n",
    "enhanced_model_final = EnhancedAnimalClassifier(num_classes=10, model_name='resnet50')\n",
    "enhanced_model_final.load_state_dict(checkpoint['model_state_dict'])\n",
    "enhanced_model_final = enhanced_model_final.to(device)\n",
    "\n",
    "# Generate Phase 1 predictions with TTA\n",
    "test_images_dir = \"path/to/test/images\"  # Update this path\n",
    "phase1_df = generate_phase1_predictions(\n",
    "    model=enhanced_model_final,\n",
    "    test_images_dir=test_images_dir,\n",
    "    label_encoder=label_encoder,\n",
    "    tta_transforms=tta_transforms,\n",
    "    device=device,\n",
    "    output_csv='phase1_predictions.csv'\n",
    ")\n",
    "\"\"\")"
   ]
  }
 ],
 "metadata": {
  "kernelspec": {
   "display_name": "venv (3.13.3)",
   "language": "python",
   "name": "python3"
  },
  "language_info": {
   "codemirror_mode": {
    "name": "ipython",
    "version": 3
   },
   "file_extension": ".py",
   "mimetype": "text/x-python",
   "name": "python",
   "nbconvert_exporter": "python",
   "pygments_lexer": "ipython3",
   "version": "3.13.3"
  }
 },
 "nbformat": 4,
 "nbformat_minor": 5
}
